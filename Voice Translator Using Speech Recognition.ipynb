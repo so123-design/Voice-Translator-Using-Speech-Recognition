{
 "cells": [
  {
   "cell_type": "markdown",
   "id": "4a8e4e8e",
   "metadata": {},
   "source": [
    "\n",
    "# **Voice Translator Using Speech Recognition**\n",
    "\n",
    "## **Introduction**\n",
    "This project implements a **Speech-to-Speech Translator**, which captures spoken input, transcribes it into text, translates it into a target language, and converts the translated text back into speech. This system demonstrates the integration of speech recognition, language translation, and text-to-speech synthesis, making it a useful tool for real-time communication across languages.\n",
    "\n",
    "### **Objective**\n",
    "To develop a Python-based tool that bridges language barriers by leveraging libraries like SpeechRecognition, GoogleTrans, and pyttsx3.\n",
    "\n",
    "---\n",
    "\n",
    "## **Project Components**\n",
    "\n",
    "### **1. Key Libraries Used**\n",
    "1. **SpeechRecognition**: Captures and transcribes speech from the microphone.\n",
    "2. **GoogleTrans**: Provides translation services to convert text into a target language.\n",
    "3. **pyttsx3**: Converts translated text into audible speech.\n",
    "4. **PyAudio**: Facilitates audio input and processing.\n",
    "\n",
    "---"
   ]
  },
  {
   "cell_type": "markdown",
   "id": "b738b25e",
   "metadata": {},
   "source": [
    "### **2. Initialize Recognizer and Speech Engine**\n",
    "\n"
   ]
  },
  {
   "cell_type": "code",
   "execution_count": null,
   "id": "e770fb8f",
   "metadata": {},
   "outputs": [],
   "source": [
    "import speech_recognition as sr\n",
    "from googletrans import Translator\n",
    "import pyttsx3\n",
    "\n",
    "recognizer = sr.Recognizer()\n",
    "engine = pyttsx3.init()"
   ]
  },
  {
   "cell_type": "markdown",
   "id": "9cb2d844",
   "metadata": {},
   "source": [
    "\n",
    "- `recognizer`: This object is used to recognize speech from audio.\n",
    "- `engine`: The pyttsx3 engine is initialized to convert the translated text into speech.\n",
    "\n",
    "---"
   ]
  },
  {
   "cell_type": "markdown",
   "id": "b0888690",
   "metadata": {},
   "source": [
    "### **3. Capturing Speech from the Microphone**"
   ]
  },
  {
   "cell_type": "code",
   "execution_count": null,
   "id": "9c5224d1",
   "metadata": {},
   "outputs": [],
   "source": [
    "with sr.Microphone() as source:\n",
    "    print('Clearing background noise...')\n",
    "    recognizer.adjust_for_ambient_noise(source, duration=1)\n",
    "    print('Waiting for message..')\n",
    "    \n",
    "    try:\n",
    "        audio = recognizer.listen(source, timeout=7)\n",
    "        print('Done recording..')\n",
    "        print('Recognizing..')\n",
    "        result = recognizer.recognize_google(audio, language='ta-IN')\n",
    "    except Exception as ex:\n",
    "        print(\"Error recognizing speech:\", ex)\n",
    "        result = None"
   ]
  },
  {
   "cell_type": "markdown",
   "id": "8dc99858",
   "metadata": {},
   "source": [
    "- **Microphone as Source**: The microphone is used to capture audio.\n",
    "- **Noise Adjustment**: The `adjust_for_ambient_noise()` function is used to reduce background noise and improve the accuracy of speech recognition.\n",
    "- **Listening for Speech**: The `listen()` function listens for a spoken input. The `timeout=7` ensures that the program waits for 7 seconds to capture speech.\n",
    "- **Speech Recognition**: The `recognize_google()` function is used to convert the captured audio to text. The `language='ta-IN'` parameter indicates that the speech is expected to be in Tamil (you can change it to any language code as needed).\n",
    "- **Error Handling**: If there's an error while recognizing the speech, the program catches it and sets `result` to `None`.\n",
    "\n",
    "---"
   ]
  },
  {
   "cell_type": "markdown",
   "id": "4bfe9d96",
   "metadata": {},
   "source": [
    "### **4. Translate the Recognized Speech**\n"
   ]
  },
  {
   "cell_type": "code",
   "execution_count": null,
   "id": "c8c903c1",
   "metadata": {},
   "outputs": [],
   "source": [
    "def trans():\n",
    "    if result:\n",
    "        langinput = input('Type the language code you want to convert to (e.g., \"fr\" for French): ')\n",
    "        translator = Translator()\n",
    "        translate_text = translator.translate(result, dest=langinput).text\n",
    "        print(translate_text)\n",
    "        engine.say(translate_text)\n",
    "        engine.runAndWait()\n",
    "    else:\n",
    "        print(\"No recognized text to translate.\")"
   ]
  },
  {
   "cell_type": "markdown",
   "id": "24ec59da",
   "metadata": {},
   "source": [
    "- **Translation Function**: The `trans()` function is called to handle the translation and text-to-speech output.\n",
    "    - **Check if `result` Exists**: First, it checks if the speech recognition was successful (`result` contains the recognized text).\n",
    "    - **Language Input**: The user is prompted to enter the target language code (e.g., \"fr\" for French, \"es\" for Spanish).\n",
    "    - **Translate the Text**: The `googletrans` library’s `translate()` function is used to translate the recognized text into the desired language. The `dest` argument specifies the target language code.\n",
    "    - **Convert Text to Speech**: After translation, the translated text is spoken aloud using `pyttsx3`'s `say()` and `runAndWait()` functions.\n",
    "    - **Fallback**: If no speech is recognized (`result` is `None`), an error message is displayed.\n",
    "\n",
    "---"
   ]
  },
  {
   "cell_type": "markdown",
   "id": "e7ccf0b6",
   "metadata": {},
   "source": [
    "### **5. Run the Translation Process**"
   ]
  },
  {
   "cell_type": "code",
   "execution_count": null,
   "id": "2e304574",
   "metadata": {},
   "outputs": [],
   "source": [
    "trans()"
   ]
  },
  {
   "cell_type": "markdown",
   "id": "db6314f9",
   "metadata": {},
   "source": [
    "- The `trans()` function is called to start the translation process after the speech is recognized and captured.\n",
    "\n",
    "---"
   ]
  },
  {
   "cell_type": "markdown",
   "id": "d42291ce",
   "metadata": {},
   "source": [
    "## **Key Features**\n",
    "- **Real-Time Speech Recognition**: Captures and transcribes user speech.\n",
    "- **Language Translation**: Converts text into over 100 languages using GoogleTrans.\n",
    "- **Text-to-Speech Output**: Speaks the translated text for auditory feedback.\n",
    "- **Interactive Input**: Allows users to specify the target language dynamically.\n",
    "\n",
    "---\n",
    "\n",
    "## **Applications**\n",
    "- **Multilingual Communication**: Facilitates conversations between speakers of different languages.\n",
    "- **Travel Assistance**: Helps tourists communicate in foreign languages.\n",
    "- **Language Learning**: Assists in learning new languages through interactive translation.\n",
    "\n",
    "---\n",
    "\n",
    "## **How to Run the Project**\n",
    "### **1. Prerequisites**\n",
    "Install the required libraries:\n",
    "```bash\n",
    "pip install SpeechRecognition\n",
    "pip install googletrans==4.0.0-rc1\n",
    "pip install pyttsx3\n",
    "pip install pyaudio\n",
    "```\n",
    "\n",
    "### **2. Running the Code**\n",
    "Execute the Python script. Speak into the microphone when prompted, and follow the instructions to select a target language for translation.\n",
    "\n",
    "---\n",
    "\n",
    "## **Future Enhancements**\n",
    "- Add support for **custom voice settings** (e.g., pitch, speed) in the text-to-speech output.\n",
    "- Improve **error handling** to address cases of noisy environments or unsupported language codes.\n",
    "- Integrate with **GUI frameworks** like Tkinter or PyQt for a user-friendly interface.\n",
    "- Incorporate **translation confidence scores** to validate the accuracy of the output.\n",
    "\n",
    "---\n",
    "\n"
   ]
  }
 ],
 "metadata": {
  "kernelspec": {
   "display_name": "Python 3 (ipykernel)",
   "language": "python",
   "name": "python3"
  },
  "language_info": {
   "codemirror_mode": {
    "name": "ipython",
    "version": 3
   },
   "file_extension": ".py",
   "mimetype": "text/x-python",
   "name": "python",
   "nbconvert_exporter": "python",
   "pygments_lexer": "ipython3",
   "version": "3.10.9"
  }
 },
 "nbformat": 4,
 "nbformat_minor": 5
}
